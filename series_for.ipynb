{
  "nbformat": 4,
  "nbformat_minor": 0,
  "metadata": {
    "colab": {
      "provenance": [],
      "authorship_tag": "ABX9TyOmqwgK4VX7vffPRKrsIMDC",
      "include_colab_link": true
    },
    "kernelspec": {
      "name": "python3",
      "display_name": "Python 3"
    },
    "language_info": {
      "name": "python"
    }
  },
  "cells": [
    {
      "cell_type": "markdown",
      "metadata": {
        "id": "view-in-github",
        "colab_type": "text"
      },
      "source": [
        "<a href=\"https://colab.research.google.com/github/jhonalexander1606/series_google_colab/blob/main/series_for.ipynb\" target=\"_parent\"><img src=\"https://colab.research.google.com/assets/colab-badge.svg\" alt=\"Open In Colab\"/></a>"
      ]
    },
    {
      "cell_type": "markdown",
      "source": [
        "# SERIES USANDO FOR"
      ],
      "metadata": {
        "id": "jHfl-P9EF0j5"
      }
    },
    {
      "cell_type": "code",
      "execution_count": 10,
      "metadata": {
        "colab": {
          "base_uri": "https://localhost:8080/"
        },
        "id": "kmi1U4YoEfuM",
        "outputId": "38eb0dbf-1248-4b24-99fe-8b123754f3c7"
      },
      "outputs": [
        {
          "output_type": "stream",
          "name": "stdout",
          "text": [
            "------------------------\n",
            "--------SERIE_1---------\n",
            "------------------------\n",
            "serie: {1, 2, 3, 4, 5, 6, 7, 8, 9, 10}\n"
          ]
        }
      ],
      "source": [
        "# serie 1: 1, 2, ,3, 4, 5, 6, 7, 8, 9, 10\n",
        "\n",
        "print(\"------------------------\")\n",
        "print(\"--------SERIE_1---------\")\n",
        "print(\"------------------------\")\n",
        "\n",
        "s = \"serie: {\"\n",
        "for i in range(1,11):\n",
        "  if i != 10:\n",
        "    s = s + str (i) + \", \"\n",
        "  else:\n",
        "    s = s + str (i) + \"}\"\n",
        "\n",
        "print(s)"
      ]
    },
    {
      "cell_type": "code",
      "source": [
        "# serie 2: 1, 4, 9, 16, 25, 36, 49, 64, 81,...\n",
        "\n",
        "\n",
        "print(\"------------------------\")\n",
        "print(\"--------SERIE_2---------\")\n",
        "print(\"------------------------\")\n",
        "\n",
        "s = \"serie: {\"\n",
        "for i in range(1,11):\n",
        "  if i != 10:\n",
        "    s = s + str (i**2) + \", \"\n",
        "  else:\n",
        "    s = s + str (i) + \"}\"\n",
        "\n",
        "print(s)"
      ],
      "metadata": {
        "colab": {
          "base_uri": "https://localhost:8080/"
        },
        "id": "op5Um2MvJHwX",
        "outputId": "53fa051a-7790-4616-c33d-5602ad0f1d16"
      },
      "execution_count": 12,
      "outputs": [
        {
          "output_type": "stream",
          "name": "stdout",
          "text": [
            "------------------------\n",
            "--------SERIE_1---------\n",
            "------------------------\n",
            "serie: {1, 4, 9, 16, 25, 36, 49, 64, 81, 10}\n"
          ]
        }
      ]
    },
    {
      "cell_type": "code",
      "source": [
        "# serie 3: 2, 4, 8, 16, 32, 64,...\n",
        "\n",
        "\n",
        "print(\"------------------------\")\n",
        "print(\"--------SERIE_3---------\")\n",
        "print(\"------------------------\")\n",
        "\n",
        "s = \"serie: {\"\n",
        "for i in range(1,11):\n",
        "\n",
        "  if i != 10:\n",
        "    s = s + str (2**i) + \", \"\n",
        "  else:\n",
        "    s = s + str (2**i) + \"}\"\n",
        "\n",
        "print(s)"
      ],
      "metadata": {
        "colab": {
          "base_uri": "https://localhost:8080/"
        },
        "id": "X7_rPmWoNZfp",
        "outputId": "8126050d-6949-4cdd-9b88-ad7e8ea36730"
      },
      "execution_count": 17,
      "outputs": [
        {
          "output_type": "stream",
          "name": "stdout",
          "text": [
            "------------------------\n",
            "--------SERIE_3---------\n",
            "------------------------\n",
            "serie: {2, 4, 8, 16, 32, 64, 128, 256, 512, 10}\n"
          ]
        }
      ]
    },
    {
      "cell_type": "code",
      "source": [
        "# serie 4: 2, 6, 12, 20, 30, 42, 56,...\n",
        "\n",
        "\n",
        "print(\"------------------------\")\n",
        "print(\"--------SERIE_3---------\")\n",
        "print(\"------------------------\")\n",
        "\n",
        "s = \"serie: {\"\n",
        "for i in range(1,11):\n",
        "\n",
        "  if i == 1:\n",
        "    s = s + str (i*(i+1)) + \", \"\n",
        "  else:\n",
        "    s = s + str (i*(i+1)) + \"}\"\n",
        "\n",
        "print(s)"
      ],
      "metadata": {
        "colab": {
          "base_uri": "https://localhost:8080/"
        },
        "id": "qiaKtmycPlhD",
        "outputId": "987ca6a9-dca8-4614-cf8d-be4152de42f7"
      },
      "execution_count": 21,
      "outputs": [
        {
          "output_type": "stream",
          "name": "stdout",
          "text": [
            "------------------------\n",
            "--------SERIE_3---------\n",
            "------------------------\n",
            "serie: {2, 6, 12, 20, 30, 42, 56, 72, 90, 110}\n"
          ]
        }
      ]
    }
  ]
}